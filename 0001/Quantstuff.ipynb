{
 "cells": [
  {
   "cell_type": "code",
   "execution_count": 1,
   "id": "3306102f-40cd-4fed-b233-8d58a3475fcc",
   "metadata": {},
   "outputs": [
    {
     "name": "stdout",
     "output_type": "stream",
     "text": [
      "Found existing installation: matplotlib 3.9.0\n",
      "Uninstalling matplotlib-3.9.0:\n",
      "  Successfully uninstalled matplotlib-3.9.0\n",
      "Note: you may need to restart the kernel to use updated packages.\n",
      "Collecting matplotlib\n",
      "  Using cached matplotlib-3.9.0-cp312-cp312-manylinux_2_17_x86_64.manylinux2014_x86_64.whl.metadata (11 kB)\n",
      "Requirement already satisfied: contourpy>=1.0.1 in /home/william/Dev/github/Quantum_Computing/quantum_env/lib/python3.12/site-packages (from matplotlib) (1.2.1)\n",
      "Requirement already satisfied: cycler>=0.10 in /home/william/Dev/github/Quantum_Computing/quantum_env/lib/python3.12/site-packages (from matplotlib) (0.12.1)\n",
      "Requirement already satisfied: fonttools>=4.22.0 in /home/william/Dev/github/Quantum_Computing/quantum_env/lib/python3.12/site-packages (from matplotlib) (4.53.0)\n",
      "Requirement already satisfied: kiwisolver>=1.3.1 in /home/william/Dev/github/Quantum_Computing/quantum_env/lib/python3.12/site-packages (from matplotlib) (1.4.5)\n",
      "Requirement already satisfied: numpy>=1.23 in /home/william/Dev/github/Quantum_Computing/quantum_env/lib/python3.12/site-packages (from matplotlib) (1.26.4)\n",
      "Requirement already satisfied: packaging>=20.0 in /home/william/Dev/github/Quantum_Computing/quantum_env/lib/python3.12/site-packages (from matplotlib) (24.1)\n",
      "Requirement already satisfied: pillow>=8 in /home/william/Dev/github/Quantum_Computing/quantum_env/lib/python3.12/site-packages (from matplotlib) (10.3.0)\n",
      "Requirement already satisfied: pyparsing>=2.3.1 in /home/william/Dev/github/Quantum_Computing/quantum_env/lib/python3.12/site-packages (from matplotlib) (3.1.2)\n",
      "Requirement already satisfied: python-dateutil>=2.7 in /home/william/Dev/github/Quantum_Computing/quantum_env/lib/python3.12/site-packages (from matplotlib) (2.9.0.post0)\n",
      "Requirement already satisfied: six>=1.5 in /home/william/Dev/github/Quantum_Computing/quantum_env/lib/python3.12/site-packages (from python-dateutil>=2.7->matplotlib) (1.16.0)\n",
      "Using cached matplotlib-3.9.0-cp312-cp312-manylinux_2_17_x86_64.manylinux2014_x86_64.whl (8.3 MB)\n",
      "Installing collected packages: matplotlib\n",
      "Successfully installed matplotlib-3.9.0\n",
      "Note: you may need to restart the kernel to use updated packages.\n"
     ]
    }
   ],
   "source": [
    "# %pip install qiskit\n",
    "# %pip install qiskit-aer\n",
    "%pip uninstall matplotlib -y\n",
    "%pip install matplotlib\n",
    "from qiskit_aer import Aer\n",
    "from qiskit import QuantumCircuit\n",
    "from qiskit.visualization import plot_histogram\n",
    "import matplotlib.pyplot as plt  # Import matplotlib for plotting\n"
   ]
  },
  {
   "cell_type": "code",
   "execution_count": 12,
   "id": "a5595e32-feed-4bd9-9a49-30ad94c32a1c",
   "metadata": {},
   "outputs": [
    {
     "name": "stdout",
     "output_type": "stream",
     "text": [
      "{'11 00': 493, '00 00': 507}\n"
     ]
    },
    {
     "data": {
      "image/png": "[encoded data removed]",
      "text/plain": [
       "<Figure size 640x480 with 1 Axes>"
      ]
     },
     "execution_count": 12,
     "metadata": {},
     "output_type": "execute_result"
    }
   ],
   "source": [
    "# import matplotlib.pyplot as plt\n",
    "gc = QuantumCircuit(2, 2) # Quantum register with 2 qubits and 2 classical bits\n",
    "\n",
    "gc.h(0) # Apply Hadamard gate to qubit 0. It is in superposition now\n",
    "gc.cx(0, 1) # Apply CNOT gate with control qubit 0 and target qubit 1. Entanglement is created. (0 = control qbit, 1 = target qbit). If qubit 0 is 1, qubit 1 will be flipped.\n",
    "gc.measure_all() # Measure all qubits and store the result in classical bits\n",
    "\n",
    "simulator = Aer.get_backend('qasm_simulator') # Use the qasm simulator.\n",
    "\n",
    "job = simulator.run(gc, shots=1000)\n",
    "result_counts = job.result().get_counts()\n",
    "print(result_counts)\n",
    "\n",
    "plot_histogram(result_counts)  # Display the output as a histogram\n"
   ]
  },
  {
   "cell_type": "code",
   "execution_count": null,
   "id": "770c0951-968e-4064-98f4-10582c85250e",
   "metadata": {},
   "outputs": [],
   "source": []
  }
 ],
 "metadata": {
  "kernelspec": {
   "display_name": "Python 3 (ipykernel)",
   "language": "python",
   "name": "python3"
  },
  "language_info": {
   "codemirror_mode": {
    "name": "ipython",
    "version": 3
   },
   "file_extension": ".py",
   "mimetype": "text/x-python",
   "name": "python",
   "nbconvert_exporter": "python",
   "pygments_lexer": "ipython3",
   "version": "3.12.3"
  }
 },
 "nbformat": 4,
 "nbformat_minor": 5
}
